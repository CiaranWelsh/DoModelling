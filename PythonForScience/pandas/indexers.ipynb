{
 "cells": [
  {
   "cell_type": "markdown",
   "metadata": {
    "collapsed": true,
    "pycharm": {
     "name": "#%% md\n"
    }
   },
   "source": [
    "# Pandas\n",
    "Is a package for handling data in python. R has inbuilt data frames, as does matlab. But in Python, data frames are a part of an external package called pandas. With pandas, you get a whole bunch of tools for easily analysing data. Hopefully we'll cover some of those here. For more information see [this link](https://www.learndatasci.com/tutorials/python-pandas-tutorial-complete-introduction-for-beginners/).\n",
    "\n",
    "## Structures in Pandas\n",
    "There are two main structures: a `pandas.Series` and a `pandas.DataFrame`. A `pandas.DataFrame` is composed of an arbitrary number of `pandas.Series` objects. Before we experiment with these, lets load some data. "
   ]
  },
  {
   "cell_type": "code",
   "source": [
    "https://www.dataschool.io/best-python-pandas-resources/\n",
    "\n"
   ],
   "metadata": {
    "collapsed": false,
    "pycharm": {
     "name": "#%% \n"
    }
   },
   "execution_count": null,
   "outputs": []
  }
 ],
 "metadata": {
  "kernelspec": {
   "display_name": "Python 3",
   "language": "python",
   "name": "python3"
  },
  "language_info": {
   "codemirror_mode": {
    "name": "ipython",
    "version": 2
   },
   "file_extension": ".py",
   "mimetype": "text/x-python",
   "name": "python",
   "nbconvert_exporter": "python",
   "pygments_lexer": "ipython2",
   "version": "2.7.6"
  },
  "pycharm": {
   "stem_cell": {
    "cell_type": "raw",
    "source": [],
    "metadata": {
     "collapsed": false
    }
   }
  }
 },
 "nbformat": 4,
 "nbformat_minor": 0
}